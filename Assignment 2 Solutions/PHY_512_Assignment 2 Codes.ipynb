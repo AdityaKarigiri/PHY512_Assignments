{
  "nbformat": 4,
  "nbformat_minor": 0,
  "metadata": {
    "colab": {
      "provenance": [],
      "collapsed_sections": []
    },
    "kernelspec": {
      "name": "python3",
      "display_name": "Python 3"
    },
    "language_info": {
      "name": "python"
    }
  },
  "cells": [
    {
      "cell_type": "markdown",
      "source": [
        "**Problem 2**\n",
        "\n",
        "Recursive Variable Step Size Integrator\n",
        "\n",
        "**Method 1**\n",
        "\n",
        "(Code Referred from Lecture Notes)"
      ],
      "metadata": {
        "id": "qa5d3LQTDcm7"
      }
    },
    {
      "cell_type": "code",
      "execution_count": 45,
      "metadata": {
        "id": "of6OpSeQ8mA3"
      },
      "outputs": [],
      "source": [
        "import numpy as np\n",
        "\n",
        "def integrate_adaptive(fun,a,b,tol,extra=None):\n",
        "    if extra is None:\n",
        "      extra=[]\n",
        "    print('calling function from ',a,b)\n",
        "    # Taking 5 points between the intervals a and b\n",
        "    x = np.linspace(a,b,5)\n",
        "    y = fun(x)              # True value of function\n",
        "\n",
        "    # Simpson's 3 point and 5 point integral (1/3 Rule)\n",
        "    dx = x[1]-x[0]\n",
        "    i1 = (y[0]+4*y[2]+y[4])/3*(2*dx)\n",
        "    i2 = (y[0]+4*y[1]+2*y[2]+4*y[3]+y[4])/3*dx\n",
        "\n",
        "    error = np.abs(i1-i2)\n",
        "    if error < tol:\n",
        "        return i2\n",
        "    else:\n",
        "        mid = (a+b)/2\n",
        "        int1 = integrate_adaptive(fun,a,mid,tol/2)\n",
        "        int2 = integrate_adaptive(fun,mid,b,tol/2)\n",
        "        return int1+int2\n",
        "    print(count)"
      ]
    },
    {
      "cell_type": "code",
      "source": [
        "# Function Definition\n",
        "def fun(x):\n",
        "  return np.sin(x) \n",
        "\n",
        "ans = integrate_adaptive(fun,0.0,np.pi,1e-6)\n",
        "print(' My Answer is ',ans, 'and my Error is', ans-2)"
      ],
      "metadata": {
        "colab": {
          "base_uri": "https://localhost:8080/",
          "height": 0
        },
        "id": "fnMeqT1XGRgi",
        "outputId": "5d7c1231-9004-4d49-bc67-c90a36c80252"
      },
      "execution_count": 46,
      "outputs": [
        {
          "output_type": "stream",
          "name": "stdout",
          "text": [
            "calling function from  0.0 3.141592653589793\n",
            "calling function from  0.0 1.5707963267948966\n",
            "calling function from  0.0 0.7853981633974483\n",
            "calling function from  0.0 0.39269908169872414\n",
            "calling function from  0.0 0.19634954084936207\n",
            "calling function from  0.19634954084936207 0.39269908169872414\n",
            "calling function from  0.39269908169872414 0.7853981633974483\n",
            "calling function from  0.39269908169872414 0.5890486225480862\n",
            "calling function from  0.5890486225480862 0.7853981633974483\n",
            "calling function from  0.7853981633974483 1.5707963267948966\n",
            "calling function from  0.7853981633974483 1.1780972450961724\n",
            "calling function from  0.7853981633974483 0.9817477042468103\n",
            "calling function from  0.7853981633974483 0.8835729338221293\n",
            "calling function from  0.8835729338221293 0.9817477042468103\n",
            "calling function from  0.9817477042468103 1.1780972450961724\n",
            "calling function from  0.9817477042468103 1.0799224746714913\n",
            "calling function from  1.0799224746714913 1.1780972450961724\n",
            "calling function from  1.1780972450961724 1.5707963267948966\n",
            "calling function from  1.1780972450961724 1.3744467859455345\n",
            "calling function from  1.1780972450961724 1.2762720155208536\n",
            "calling function from  1.2762720155208536 1.3744467859455345\n",
            "calling function from  1.3744467859455345 1.5707963267948966\n",
            "calling function from  1.3744467859455345 1.4726215563702154\n",
            "calling function from  1.4726215563702154 1.5707963267948966\n",
            "calling function from  1.5707963267948966 3.141592653589793\n",
            "calling function from  1.5707963267948966 2.356194490192345\n",
            "calling function from  1.5707963267948966 1.9634954084936207\n",
            "calling function from  1.5707963267948966 1.7671458676442586\n",
            "calling function from  1.5707963267948966 1.6689710972195777\n",
            "calling function from  1.6689710972195777 1.7671458676442586\n",
            "calling function from  1.7671458676442586 1.9634954084936207\n",
            "calling function from  1.7671458676442586 1.8653206380689396\n",
            "calling function from  1.8653206380689396 1.9634954084936207\n",
            "calling function from  1.9634954084936207 2.356194490192345\n",
            "calling function from  1.9634954084936207 2.1598449493429825\n",
            "calling function from  1.9634954084936207 2.061670178918302\n",
            "calling function from  2.061670178918302 2.1598449493429825\n",
            "calling function from  2.1598449493429825 2.356194490192345\n",
            "calling function from  2.1598449493429825 2.2580197197676637\n",
            "calling function from  2.2580197197676637 2.356194490192345\n",
            "calling function from  2.356194490192345 3.141592653589793\n",
            "calling function from  2.356194490192345 2.748893571891069\n",
            "calling function from  2.356194490192345 2.552544031041707\n",
            "calling function from  2.552544031041707 2.748893571891069\n",
            "calling function from  2.748893571891069 3.141592653589793\n",
            "calling function from  2.748893571891069 2.945243112740431\n",
            "calling function from  2.945243112740431 3.141592653589793\n",
            " My Answer is  2.0000000217516316 and my Error is 2.175163160700322e-08\n"
          ]
        }
      ]
    },
    {
      "cell_type": "markdown",
      "source": [
        "**Method 2**\n",
        "\n",
        "The below code doesn't calls f(x) again for the same value of x\n",
        "\n",
        "(Code and concept referred from Numerical integration/Adaptive Simpson's method by Rosetta Code Wikipedia)"
      ],
      "metadata": {
        "id": "WduG46fI_-Zz"
      }
    },
    {
      "cell_type": "code",
      "source": [
        "import collections\n",
        "triple = collections.namedtuple('triple', 'm fm simp')\n",
        "\n",
        "def quad_simpsons_mem(f, a , fa, b, fb):\n",
        "\n",
        "   # Evaluates Simpson's 1/3 Rule, also returning the value of m and f(m) to reuse\n",
        "\n",
        "    m = a + (b - a) / 2\n",
        "    fm = f(m)\n",
        "    simp = abs(b - a) / 6 * (fa + 4*fm + fb)    # Simpson's 3 point formula\n",
        "    return triple(m, fm, simp)\n",
        " \n",
        "def quad_eval(f, a, fa, b, fb, eps, whole, m, fm):\n",
        "\n",
        "    # Efficient recursive implementation of adaptive Simpson's rule where the function values at the start, middle, end of the intervals are retained.\n",
        "\n",
        "    print('calling function from ',a,b)\n",
        "    lt = quad_simpsons_mem(f, a, fa, m, fm)\n",
        "    rt = quad_simpsons_mem(f, m, fm, b, fb)\n",
        "    delta = lt.simp + rt.simp - whole\n",
        "    if (abs(delta) <= eps * 15):\n",
        "      return (lt.simp + rt.simp + delta/15)\n",
        "    else:\n",
        "      return (quad_eval(f, a, fa, m, fm, eps/2, lt.simp, lt.m, lt.fm) + quad_eval(f, m, fm, b, fb, eps/2, rt.simp, rt.m, rt.fm))\n",
        "    \n",
        "def quad_asr(f, a, b, eps):\n",
        "  \n",
        "    fa = f(a)\n",
        "    fb = f(b)\n",
        "    t = quad_simpsons_mem(f, a, fa, b, fb)\n",
        "    return quad_eval(f, a, fa, b, fb, eps, t.simp, t.m, t.fm)"
      ],
      "metadata": {
        "id": "JpM7HLWFALLN"
      },
      "execution_count": 47,
      "outputs": []
    },
    {
      "cell_type": "code",
      "source": [
        "# Function Definition\n",
        "\n",
        "def fun(x):\n",
        "  return np.sin(x) \n",
        "\n",
        "ans = quad_asr(fun, 0, np.pi, 1e-06);\n",
        "#print(\"Simpson's integration of sine from {} to {} = {}\\n\".format(a, b, sinx))\n",
        "print(' My Answer is ',ans, 'and my Error is', ans-2)"
      ],
      "metadata": {
        "colab": {
          "base_uri": "https://localhost:8080/",
          "height": 0
        },
        "id": "id3Y0GzU_Tmh",
        "outputId": "1ff52a9a-b700-4cf1-b414-9aaf4ec884b2"
      },
      "execution_count": 48,
      "outputs": [
        {
          "output_type": "stream",
          "name": "stdout",
          "text": [
            "calling function from  0 3.141592653589793\n",
            "calling function from  0 1.5707963267948966\n",
            "calling function from  0 0.7853981633974483\n",
            "calling function from  0 0.39269908169872414\n",
            "calling function from  0.39269908169872414 0.7853981633974483\n",
            "calling function from  0.7853981633974483 1.5707963267948966\n",
            "calling function from  0.7853981633974483 1.1780972450961724\n",
            "calling function from  0.7853981633974483 0.9817477042468103\n",
            "calling function from  0.9817477042468103 1.1780972450961724\n",
            "calling function from  1.1780972450961724 1.5707963267948966\n",
            "calling function from  1.1780972450961724 1.3744467859455345\n",
            "calling function from  1.3744467859455345 1.5707963267948966\n",
            "calling function from  1.5707963267948966 3.141592653589793\n",
            "calling function from  1.5707963267948966 2.356194490192345\n",
            "calling function from  1.5707963267948966 1.9634954084936207\n",
            "calling function from  1.5707963267948966 1.7671458676442586\n",
            "calling function from  1.7671458676442586 1.9634954084936207\n",
            "calling function from  1.9634954084936207 2.356194490192345\n",
            "calling function from  1.9634954084936207 2.1598449493429825\n",
            "calling function from  2.1598449493429825 2.356194490192345\n",
            "calling function from  2.356194490192345 3.141592653589793\n",
            "calling function from  2.356194490192345 2.748893571891069\n",
            "calling function from  2.748893571891069 3.141592653589793\n",
            " My Answer is  1.9999999988423984 and my Error is -1.1576015701564302e-09\n"
          ]
        }
      ]
    },
    {
      "cell_type": "markdown",
      "source": [
        "**Inference**\n",
        "\n",
        "Comparing the above 2 methods, we see that methods 2 has called the function least number of times. This is achieved by storing the values at the start, middle and end of the interval and calling the function only to estimate the remaining points."
      ],
      "metadata": {
        "id": "e1378FsiGcBj"
      }
    },
    {
      "cell_type": "markdown",
      "source": [
        "**Problem 1**\n",
        "\n",
        "Electric Field from an infinitesimally thin spherical shell of charge '𝐐' with radius 'ℜ'. Make a plot of Electric Field from the shell as a function of distance from the distance"
      ],
      "metadata": {
        "id": "iiYJvcnOIs5Y"
      }
    },
    {
      "cell_type": "markdown",
      "source": [
        "**Method 1** - Using Recursive step size Integrator"
      ],
      "metadata": {
        "id": "VFMOcsKXdj9-"
      }
    },
    {
      "cell_type": "code",
      "source": [
        "import numpy as np\n",
        "from matplotlib import pyplot as plt\n",
        "\n",
        "def integrate_adaptive(fun,a,b,tol):\n",
        "    # Taking 10 points between the intervals a and b\n",
        "    x = np.linspace(a,b,10)\n",
        "    y = fun(x)              \n",
        "\n",
        "    # Simpson's 3 point and 5 point integral (1/3 Rule)\n",
        "    dx = x[1]-x[0]\n",
        "    i1 = (y[0]+4*y[2]+y[4])/3*(2*dx)\n",
        "    i2 = (y[0]+4*y[1]+2*y[2]+4*y[3]+y[4])/3*dx\n",
        "\n",
        "    error = np.abs(i1-i2)\n",
        "    if error < tol:\n",
        "        return i2\n",
        "    else:\n",
        "        mid = (a+b)/2\n",
        "        int1 = integrate_adaptive(fun,a,mid,tol/2)\n",
        "        int2 = integrate_adaptive(fun,mid,b,tol/2)\n",
        "        return int1+int2"
      ],
      "metadata": {
        "id": "d_nEWNk5EyuX"
      },
      "execution_count": 101,
      "outputs": []
    },
    {
      "cell_type": "code",
      "source": [
        "epsi = 8.85 * 10**(-12)           # Epsilon\n",
        "r = 0.1                           # Radius                 \n",
        "sigma = 1                         # Charge Density\n",
        "\n",
        "def fun(x):\n",
        "  # Electric Field Integral over theta ( 0 to pi )\n",
        "  return (2*np.pi) / (4*np.pi*epsi) * ((sigma*(r**2)*np.sin(x)*(z-(r*np.cos(x))))) / ((r**2 + z**2 - 2*r*z*np.cos(x))**(3/2))\n",
        "\n",
        "distance = np.linspace(0.07,0.25,10)\n",
        "E = []\n",
        "for i in distance:\n",
        "  z = i\n",
        "  E.append(integrate_adaptive(fun, 0, np.pi, 1e-2))\n",
        "\n",
        "plt.plot(distance,E)\n",
        "plt.show()"
      ],
      "metadata": {
        "colab": {
          "base_uri": "https://localhost:8080/",
          "height": 276
        },
        "id": "s8ltrEoBYRVo",
        "outputId": "3c8aa973-068b-481f-cc99-8802d8807eec"
      },
      "execution_count": 135,
      "outputs": [
        {
          "output_type": "display_data",
          "data": {
            "text/plain": [
              "<Figure size 432x288 with 1 Axes>"
            ],
            "image/png": "[encoded data removed]"
          },
          "metadata": {
            "needs_background": "light"
          }
        }
      ]
    },
    {
      "cell_type": "markdown",
      "source": [
        "**Method 2** - Using Scipy's Quad Integrator"
      ],
      "metadata": {
        "id": "v7vuaU_5dtFS"
      }
    },
    {
      "cell_type": "code",
      "source": [
        "from scipy import integrate\n",
        "from matplotlib import pyplot as plt\n",
        "\n",
        "def f(x):     # Electric Field Integral\n",
        "\n",
        "  return (2*np.pi) / (4*np.pi*epsi) * ((sigma*(r**2)*np.sin(x)*(z-(r*np.cos(x))))) / ((r**2 + z**2 - 2*r*z*np.cos(x))**(3/2))\n",
        "\n",
        "epsi = 8.85 * 10**(-12)                # Epsilon\n",
        "r = 0.1                                # Radius                 \n",
        "sigma = 1                              # Charge Density\n",
        "distance = np.linspace(0.08,0.15,10)   # Distance from the center of the sphere\n",
        "E = []                            # Electric Field\n",
        "\n",
        "for i in distance:\n",
        "  z = i\n",
        "  E.append(integrate.quad(f, 0, np.pi)[0])\n",
        "\n",
        "plt.plot(distance,E)\n",
        "plt.show()"
      ],
      "metadata": {
        "colab": {
          "base_uri": "https://localhost:8080/",
          "height": 345
        },
        "id": "lT5NP_0uS1Nu",
        "outputId": "7dba7caf-6ac0-4d31-a2a5-0a576ddf5d3e"
      },
      "execution_count": 98,
      "outputs": [
        {
          "output_type": "stream",
          "name": "stderr",
          "text": [
            "/usr/local/lib/python3.7/dist-packages/ipykernel_launcher.py:16: IntegrationWarning: The occurrence of roundoff error is detected, which prevents \n",
            "  the requested tolerance from being achieved.  The error may be \n",
            "  underestimated.\n",
            "  app.launch_new_instance()\n"
          ]
        },
        {
          "output_type": "display_data",
          "data": {
            "text/plain": [
              "<Figure size 432x288 with 1 Axes>"
            ],
            "image/png": "[encoded data removed]"
          },
          "metadata": {
            "needs_background": "light"
          }
        }
      ]
    },
    {
      "cell_type": "markdown",
      "source": [
        "**Inference**\n",
        "\n",
        "The electric field inside the shell is zero, blows up at z = R (Due to singularity and reduces as the distance increases (outside the shell)\n",
        "\n",
        "The same can be observed in the above graphs where the electric field is zero for the values of z below r, blows up at r = z and decreases as z increases for the value of z greater than r\n",
        "\n",
        "I see that at z = 0.1, my integrator doesn't yeild the value (Due to singularity). But, the scipy,s quad integrator handles it"
      ],
      "metadata": {
        "id": "mqp_WQ3d80RL"
      }
    },
    {
      "cell_type": "markdown",
      "source": [
        "**Problem 3**\n",
        "\n",
        "Fitting a Chebyshev Polynomial to model log base 2"
      ],
      "metadata": {
        "id": "FSu7gqLGlZK5"
      }
    },
    {
      "cell_type": "code",
      "source": [
        "import math\n",
        "import numpy as np\n",
        "from matplotlib import pyplot as plt\n",
        "\n",
        "def mylog2(xfine):     # Defining the main Function that carries out the chebyshev Polynomial Fitting\n",
        "\n",
        "  def fun(x):          # Defining the log base 2 function\n",
        "    return math.log(x,2)\n",
        "\n",
        "  x = np.linspace(0.5,1,10)\n",
        "  y = []\n",
        "  for i in x:\n",
        "    y.append(fun(i))\n",
        "\n",
        "  coeff = np.polynomial.chebyshev.chebfit(x, y, 15)    # Chebyshev Polynomial Fitting\n",
        "\n",
        "  yfine = []\n",
        "  for i in xfine:\n",
        "    yfine.append(fun(i))\n",
        "\n",
        "  y_pred = np.polynomial.chebyshev.chebval(xfine, coeff)\n",
        "\n",
        "  print('The log base 2 for the given values are ',y_pred)\n",
        "  plt.plot(x,y,label = 'True Value')\n",
        "  plt.plot(xfine,y_pred,label='Estimated value')\n",
        "  plt.legend()\n",
        "  plt.show()\n",
        "  print('My error is as below')\n",
        "  plt.plot(xfine, yfine-y_pred)"
      ],
      "metadata": {
        "id": "AQnfNSv-mOXd"
      },
      "execution_count": 56,
      "outputs": []
    },
    {
      "cell_type": "code",
      "source": [
        "xfine = np.linspace(0.5,1,20)\n",
        "mylog2(xfine)"
      ],
      "metadata": {
        "colab": {
          "base_uri": "https://localhost:8080/",
          "height": 628
        },
        "id": "bpJmSN51I7p8",
        "outputId": "159e82c1-24d7-4a16-e582-0d806c6b03ed"
      },
      "execution_count": 57,
      "outputs": [
        {
          "output_type": "stream",
          "name": "stdout",
          "text": [
            "The log base 2 for the given values are  [-1.00000000e+00 -9.26005235e-01 -8.55610507e-01 -7.88494628e-01\n",
            " -7.24365305e-01 -6.62965492e-01 -6.04071510e-01 -5.47487524e-01\n",
            " -4.93039831e-01 -4.40572806e-01 -3.89946752e-01 -3.41036687e-01\n",
            " -2.93730794e-01 -2.47927845e-01 -2.03534398e-01 -1.60464048e-01\n",
            " -1.18640803e-01 -7.80039439e-02 -3.84977811e-02  1.11022302e-16]\n"
          ]
        },
        {
          "output_type": "display_data",
          "data": {
            "text/plain": [
              "<Figure size 432x288 with 1 Axes>"
            ],
            "image/png": "[encoded data removed]"
          },
          "metadata": {
            "needs_background": "light"
          }
        },
        {
          "output_type": "stream",
          "name": "stdout",
          "text": [
            "My error is as below\n"
          ]
        },
        {
          "output_type": "display_data",
          "data": {
            "text/plain": [
              "<Figure size 432x288 with 1 Axes>"
            ],
            "image/png": "[encoded data removed]"
          },
          "metadata": {
            "needs_background": "light"
          }
        }
      ]
    }
  ]
}