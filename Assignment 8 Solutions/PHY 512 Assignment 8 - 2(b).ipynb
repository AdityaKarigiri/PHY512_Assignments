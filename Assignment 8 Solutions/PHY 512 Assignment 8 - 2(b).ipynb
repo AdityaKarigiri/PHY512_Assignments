{
 "cells": [
  {
   "cell_type": "markdown",
   "metadata": {},
   "source": [
    "# Partial Differential Equations"
   ]
  },
  {
   "cell_type": "markdown",
   "metadata": {},
   "source": [
    "### Problem 2(b) - Charge Density of a Square box using Conjugate Gradient"
   ]
  },
  {
   "cell_type": "code",
   "execution_count": 48,
   "metadata": {},
   "outputs": [
    {
     "name": "stdout",
     "output_type": "stream",
     "text": [
      "The Boundary Condition for the given condition (Square Box of Potential 1)\n"
     ]
    },
    {
     "data": {
      "image/png": "[encoded data removed]",
      "text/plain": [
       "<Figure size 432x288 with 1 Axes>"
      ]
     },
     "metadata": {
      "needs_background": "light"
     },
     "output_type": "display_data"
    },
    {
     "name": "stdout",
     "output_type": "stream",
     "text": [
      "The corresponding Mask\n"
     ]
    },
    {
     "data": {
      "image/png": "[encoded data removed]",
      "text/plain": [
       "<Figure size 432x288 with 1 Axes>"
      ]
     },
     "metadata": {
      "needs_background": "light"
     },
     "output_type": "display_data"
    },
    {
     "name": "stdout",
     "output_type": "stream",
     "text": [
      "The Charge Density\n"
     ]
    },
    {
     "data": {
      "image/png": "[encoded data removed]",
      "text/plain": [
       "<Figure size 432x288 with 1 Axes>"
      ]
     },
     "metadata": {
      "needs_background": "light"
     },
     "output_type": "display_data"
    },
    {
     "name": "stdout",
     "output_type": "stream",
     "text": [
      "The Evolution of Potential of the Square Box\n"
     ]
    },
    {
     "data": {
      "text/html": [
       "<img src=\"Potential of Square Box.gif\"/>"
      ],
      "text/plain": [
       "<IPython.core.display.Image object>"
      ]
     },
     "execution_count": 48,
     "metadata": {},
     "output_type": "execute_result"
    }
   ],
   "source": [
    "# Importing necessary libraries\n",
    "\n",
    "import os\n",
    "import imageio\n",
    "import numpy as np\n",
    "from IPython.display import Image\n",
    "from matplotlib import pyplot as plt\n",
    "\n",
    "# Average of neighbours as described in problem 1\n",
    "\n",
    "def average_neighbors(mat):\n",
    "    out=0*mat\n",
    "    out=out+np.roll(mat,1,0)\n",
    "    out=out+np.roll(mat,-1,0)\n",
    "    out=out+np.roll(mat,1,1)\n",
    "    out=out+np.roll(mat,-1,1)\n",
    "    return out/4\n",
    "\n",
    "class Grid: # Initialising our boundary conditions and calculating the average of neighbours\n",
    "    def __init__(self,bc,mask):\n",
    "        self.bc=bc\n",
    "        self.mask=mask\n",
    "        \n",
    "    def make_rhs(self):\n",
    "        rhs=average_neighbors(self.bc)\n",
    "        rhs[self.mask]=0 \n",
    "        return rhs\n",
    "    \n",
    "    def __matmul__(self,x):\n",
    "        x[self.mask]=0\n",
    "        ave=average_neighbors(x)\n",
    "        ave[self.mask]=0\n",
    "        return x-ave\n",
    "\n",
    "filenames = []\n",
    "def conjugate_gradient(A,b,x=None,niter=100):\n",
    "    if x is None:\n",
    "        x=0*b\n",
    "    r=b-A@x\n",
    "    p=r.copy()\n",
    "    rtr=np.sum(r**2)\n",
    "    \n",
    "    for i in range(niter):\n",
    "        Ap=A@p\n",
    "        pAp=np.sum(p*Ap)\n",
    "        alpha=rtr/pAp\n",
    "        x=x+alpha*p\n",
    "        r=r-alpha*Ap\n",
    "        rtr_new=np.sum(r**2)\n",
    "        beta=rtr_new/rtr\n",
    "        p=r+beta*p\n",
    "        rtr=rtr_new\n",
    "      \n",
    "        plt.clf()\n",
    "        plt.imshow(x)\n",
    "        filename = f'{i}.png'\n",
    "        filenames.append(filename)\n",
    "        plt.savefig(filename)   # Save the frame\n",
    "        plt.close()\n",
    "        \n",
    "    # Build GIF\n",
    "    with imageio.get_writer('Potential of Square Box.gif', mode='I') as writer:  # This GIF can be found in the folder\n",
    "        for filename in filenames:\n",
    "            image = imageio.imread(filename)\n",
    "            writer.append_data(image)\n",
    "\n",
    "    # Remove Files\n",
    "    for filename in set(filenames):\n",
    "        os.remove(filename) \n",
    "        \n",
    "    return x\n",
    "\n",
    "n=200\n",
    "mask=np.zeros([n,n],dtype='bool')\n",
    "bc=np.zeros([n,n])\n",
    "x=np.linspace(-1,1,n)\n",
    "xsqr=np.outer(x**2,np.ones(n))\n",
    "rsqr=xsqr+4*xsqr.T\n",
    "mask[:,0]=True\n",
    "mask[0,:]=True\n",
    "mask[-1,:]=True\n",
    "mask[:,-1]=True\n",
    "\n",
    "# Defining our boundary conditions and Mask\n",
    "bc[n//4,n//4:(3*n)//4]=1.0\n",
    "bc[(3*n)//4,n//4:(3*n)//4]=-1.0\n",
    "bc[n//4:(3*n)//4,n//4]=1.0\n",
    "bc[n//4:(3*n)//4,3*n//4]=-1.0\n",
    "\n",
    "mask[n//4,n//4:(3*n)//4]=True\n",
    "mask[(3*n)//4,n//4:(3*n)//4]=True\n",
    "mask[n//4:(3*n)//4,n//4]=False\n",
    "mask[n//4:(3*n)//4,3*n//4]=True\n",
    "\n",
    "# Now we can solve the matrix A * x = b\n",
    "\n",
    "A = Grid(bc,mask)\n",
    "b = A.make_rhs()\n",
    "V = conjugate_gradient(A,b)\n",
    "\n",
    "V[A.mask] = A.bc[A.mask]\n",
    "Ex = V-np.roll(V,-1,0)\n",
    "Ey = V-np.roll(V,-1,1)\n",
    "\n",
    "ρ = V - average_neighbors(V)  # The charge density\n",
    "\n",
    "print('The Boundary Condition for the given condition (Square Box of Potential 1)')\n",
    "plt.imshow(bc)\n",
    "plt.show()\n",
    "\n",
    "print('The corresponding Mask')\n",
    "plt.imshow(mask)\n",
    "plt.show()\n",
    "\n",
    "print('The Charge Density')\n",
    "plt.imshow(ρ)\n",
    "plt.show()\n",
    "\n",
    "print('The Evolution of Potential of the Square Box')\n",
    "Image(url='Potential of Square Box.gif')  "
   ]
  },
  {
   "cell_type": "code",
   "execution_count": null,
   "metadata": {},
   "outputs": [],
   "source": []
  }
 ],
 "metadata": {
  "kernelspec": {
   "display_name": "Python 3",
   "language": "python",
   "name": "python3"
  },
  "language_info": {
   "codemirror_mode": {
    "name": "ipython",
    "version": 3
   },
   "file_extension": ".py",
   "mimetype": "text/x-python",
   "name": "python",
   "nbconvert_exporter": "python",
   "pygments_lexer": "ipython3",
   "version": "3.7.6"
  }
 },
 "nbformat": 4,
 "nbformat_minor": 4
}
